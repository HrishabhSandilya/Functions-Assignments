{
 "cells": [
  {
   "cell_type": "code",
   "execution_count": null,
   "id": "3111b021-ac75-4863-84e7-f6ebd93565ff",
   "metadata": {},
   "outputs": [],
   "source": [
    " # Theory Questions:"
   ]
  },
  {
   "cell_type": "code",
   "execution_count": 2,
   "id": "ab87fcc2-5814-4b25-b7f2-260d9e316c25",
   "metadata": {},
   "outputs": [],
   "source": [
    "\n",
    "# 1. What is the difference between a function and a method in Python?\n",
    "\n",
    "# - 1. Function\n",
    "# ~ A function is a block of reusable code that is not tied to an object.\n",
    "# ~ Defined using the def keyword or as a built-in/global function.\n",
    "# ~ Can be called independently.\n",
    "\n",
    "#- 2. Method\n",
    "# ~ A method is a function that is associated with an object (usually a class instance).\n",
    "# ~ It is called on an object and often uses that object's data.\n",
    "# ~ Defined inside a class and takes self as the first parameter (for instance methods).\n"
   ]
  },
  {
   "cell_type": "code",
   "execution_count": 1,
   "id": "fedeed12-0280-4404-b2c8-1b3638e782c0",
   "metadata": {},
   "outputs": [
    {
     "name": "stdout",
     "output_type": "stream",
     "text": [
      "7\n"
     ]
    }
   ],
   "source": [
    "# Function Example\n",
    "def add(x, y):\n",
    "    return x + y\n",
    "\n",
    "result = add(3, 4)\n",
    "print(result)"
   ]
  },
  {
   "cell_type": "code",
   "execution_count": 2,
   "id": "4bde1e72-a2d7-4ddb-8223-8718e47dbc0a",
   "metadata": {},
   "outputs": [
    {
     "name": "stdout",
     "output_type": "stream",
     "text": [
      "7\n"
     ]
    }
   ],
   "source": [
    "# Method Example\n",
    "class Calculator:\n",
    "    def add(self, x, y):\n",
    "        return x + y\n",
    "\n",
    "calc = Calculator()\n",
    "result = calc.add(3, 4)\n",
    "print(result) "
   ]
  },
  {
   "cell_type": "code",
   "execution_count": null,
   "id": "26c73178-ca57-43df-8eb7-4470506a402f",
   "metadata": {},
   "outputs": [],
   "source": [
    " # 2. Explain the concept of function arguments and parameters in Python.\n",
    "\n",
    "# -Parameter : The variable in the function definition that receives a value.\n",
    "\n",
    "# -Argument : The actual value passed to the function when you call it.\n"
   ]
  },
  {
   "cell_type": "code",
   "execution_count": 3,
   "id": "7999a04f-b326-4131-a6ab-8996c7269c1d",
   "metadata": {},
   "outputs": [
    {
     "name": "stdout",
     "output_type": "stream",
     "text": [
      "8\n"
     ]
    }
   ],
   "source": [
    "def add(x, y): # Here, x and y are (parameters)\n",
    "    return x + y\n",
    "result = add(3, 5) # Here, 3 and 5 are (arguments)\n",
    "print(result) "
   ]
  },
  {
   "cell_type": "code",
   "execution_count": null,
   "id": "14ac0c89-938d-428d-bd7b-0252636d28dc",
   "metadata": {},
   "outputs": [],
   "source": [
    " # 3. What are the different ways to define and call a function in Python?"
   ]
  },
  {
   "cell_type": "code",
   "execution_count": 8,
   "id": "e8bf8787-b558-4fb0-ba5c-587ffd283cee",
   "metadata": {},
   "outputs": [
    {
     "name": "stdout",
     "output_type": "stream",
     "text": [
      "Hello, Hrishabh!\n"
     ]
    }
   ],
   "source": [
    "(I) #Standard Function Definition\n",
    "def greet(name) :\n",
    "    return f\"Hello, {name}!\"\n",
    "\n",
    "print(greet(\"Hrishabh\"))  "
   ]
  },
  {
   "cell_type": "code",
   "execution_count": 9,
   "id": "07e2640f-e4d6-4fc4-bb0f-245b739869c6",
   "metadata": {},
   "outputs": [
    {
     "name": "stdout",
     "output_type": "stream",
     "text": [
      "Hello, Guest!\n",
      "Hello, Hrishabh!\n"
     ]
    }
   ],
   "source": [
    "(II) #Function with Default Arguments\n",
    "def greet(name=\"Guest\"):\n",
    "    return f\"Hello, {name}!\"\n",
    "\n",
    "print(greet())          \n",
    "print(greet(\"Hrishabh\"))   "
   ]
  },
  {
   "cell_type": "code",
   "execution_count": 10,
   "id": "4adfb077-6c2b-414b-b75e-085497cda607",
   "metadata": {},
   "outputs": [
    {
     "name": "stdout",
     "output_type": "stream",
     "text": [
      "Hrishabh is 24 years old.\n"
     ]
    }
   ],
   "source": [
    "(III) #Function with Keyword Arguments\n",
    "def intro(name, age):\n",
    "    print(f\"{name} is {age} years old.\")\n",
    "\n",
    "intro(age=24, name=\"Hrishabh\")"
   ]
  },
  {
   "cell_type": "code",
   "execution_count": 11,
   "id": "eb12e78a-8ed7-4597-86ae-0c5b6c2a3720",
   "metadata": {},
   "outputs": [
    {
     "name": "stdout",
     "output_type": "stream",
     "text": [
      "10\n"
     ]
    }
   ],
   "source": [
    "(IV) #Function with Variable-Length Arguments\n",
    "def add(*numbers):\n",
    "    return sum(numbers)\n",
    "print(add(1, 2, 3, 4)) "
   ]
  },
  {
   "cell_type": "code",
   "execution_count": 14,
   "id": "ecab87c4-d939-4bb0-996d-9d4cf9bb10ce",
   "metadata": {},
   "outputs": [
    {
     "name": "stdout",
     "output_type": "stream",
     "text": [
      "25\n"
     ]
    }
   ],
   "source": [
    "(V) #Lambda (Anonymous) Function\n",
    "square = lambda x: x * x\n",
    "print(square(5)) "
   ]
  },
  {
   "cell_type": "code",
   "execution_count": null,
   "id": "462106f2-0841-457e-973f-9bc6a5b1f7ed",
   "metadata": {},
   "outputs": [],
   "source": [
    " # 4. What is the purpose of the `return` statement in a Python function?\n",
    "\n",
    "# - The return statement is used to send a value back from a function to the caller. It ends the function and specifies the result.\n"
   ]
  },
  {
   "cell_type": "code",
   "execution_count": 15,
   "id": "67905815-407e-4cb6-827f-3ec3b13c6a29",
   "metadata": {},
   "outputs": [
    {
     "name": "stdout",
     "output_type": "stream",
     "text": [
      "801\n"
     ]
    }
   ],
   "source": [
    "# example\n",
    "def add(a, b):\n",
    "    result = a + b\n",
    "    return result  \n",
    "\n",
    "sum_result = add(567, 234)\n",
    "print(sum_result)  "
   ]
  },
  {
   "cell_type": "code",
   "execution_count": null,
   "id": "0e5092c3-f468-4f3c-aaf7-c1b457c93a96",
   "metadata": {},
   "outputs": [],
   "source": [
    "# 5. What are iterators in Python and how do they differ from iterables?\n",
    "\n",
    "# - Iterable\n",
    " # An iterable is any object that can return an iterator using the built-in iter() function.\n",
    " # Examples: list, tuple, str, dict, set, etc.\n",
    " # You can use a for loop on it.\n",
    "\n",
    "# - Iterator\n",
    " # An iterator is an object with:\n",
    " # a __next__() method (returns next item),\n",
    " # and an __iter__() method (returns the iterator itself).\n",
    " # Keeps track of the current position.\n",
    " # Raises StopIteration when there are no more items."
   ]
  },
  {
   "cell_type": "code",
   "execution_count": null,
   "id": "eeb79eff-be63-44de-bbdc-605e1ce333e5",
   "metadata": {},
   "outputs": [],
   "source": [
    "# 6. Explain the concept of generators in Python and how they are defined.\n",
    "\n",
    "# - A generator is a special type of iterator in Python used to generate values lazily—meaning one at a time, on demand, rather than storing all values in memory at once."
   ]
  },
  {
   "cell_type": "code",
   "execution_count": 24,
   "id": "8c4cf2b5-6f55-4331-b476-b91e99863126",
   "metadata": {},
   "outputs": [],
   "source": [
    "def count_up_to(n):\n",
    "    i = 1\n",
    "    while i <= n:\n",
    "        yield i\n",
    "        i += 1\n",
    "        \n",
    "gen = count_up_to(3)"
   ]
  },
  {
   "cell_type": "code",
   "execution_count": 25,
   "id": "7af60136-59dd-4ae3-bc9b-016fbff62d10",
   "metadata": {},
   "outputs": [
    {
     "name": "stdout",
     "output_type": "stream",
     "text": [
      "1\n"
     ]
    }
   ],
   "source": [
    "print(next(gen))"
   ]
  },
  {
   "cell_type": "code",
   "execution_count": 26,
   "id": "210424c0-8224-478d-8221-02275e8ded5e",
   "metadata": {},
   "outputs": [
    {
     "name": "stdout",
     "output_type": "stream",
     "text": [
      "2\n"
     ]
    }
   ],
   "source": [
    "print(next(gen))"
   ]
  },
  {
   "cell_type": "code",
   "execution_count": 27,
   "id": "46b365d6-8f65-4b58-9092-11e99a592837",
   "metadata": {},
   "outputs": [
    {
     "name": "stdout",
     "output_type": "stream",
     "text": [
      "3\n"
     ]
    }
   ],
   "source": [
    "print(next(gen))"
   ]
  },
  {
   "cell_type": "code",
   "execution_count": 28,
   "id": "15e401f7-7cda-4f03-b151-c4a5545c5969",
   "metadata": {},
   "outputs": [
    {
     "ename": "StopIteration",
     "evalue": "",
     "output_type": "error",
     "traceback": [
      "\u001b[31m---------------------------------------------------------------------------\u001b[39m",
      "\u001b[31mStopIteration\u001b[39m                             Traceback (most recent call last)",
      "\u001b[36mCell\u001b[39m\u001b[36m \u001b[39m\u001b[32mIn[28]\u001b[39m\u001b[32m, line 1\u001b[39m\n\u001b[32m----> \u001b[39m\u001b[32m1\u001b[39m \u001b[38;5;28mprint\u001b[39m(\u001b[38;5;28;43mnext\u001b[39;49m\u001b[43m(\u001b[49m\u001b[43mgen\u001b[49m\u001b[43m)\u001b[49m)\n",
      "\u001b[31mStopIteration\u001b[39m: "
     ]
    }
   ],
   "source": [
    "print(next(gen)) (# stop iteration)"
   ]
  },
  {
   "cell_type": "code",
   "execution_count": null,
   "id": "adaa3a52-5caa-48e7-afbf-6a827b5be578",
   "metadata": {},
   "outputs": [],
   "source": [
    "# 7. What are the advantages of using generators over regular functions?\n",
    "\n",
    "# - (I) Memory Efficiency\n",
    "#   (III) Improved Performance\n",
    "#   (IV) Stateful Iteration\n",
    "#   (V) Clean and Readable Code"
   ]
  },
  {
   "cell_type": "code",
   "execution_count": 29,
   "id": "d0177665-eee5-4c69-83f9-d5f5b2ed0bdb",
   "metadata": {},
   "outputs": [],
   "source": [
    " # Example\n",
    "def gen_numbers():\n",
    "    for i in range(10**6):\n",
    "        yield i\n"
   ]
  },
  {
   "cell_type": "code",
   "execution_count": null,
   "id": "b082c9ae-d0ad-467b-95c1-3f91beb2ea24",
   "metadata": {},
   "outputs": [],
   "source": [
    "# 8. What is a lambda function in Python and when is it typically used?\n",
    "\n",
    "# - A lambda function in Python is a small anonymous function defined using the lambda keyword.It’s often used for short, simple functions where writing a full def function would be unnecessary."
   ]
  },
  {
   "cell_type": "code",
   "execution_count": 30,
   "id": "33f1d854-c50a-4fff-b5a2-c2123d3231ee",
   "metadata": {},
   "outputs": [
    {
     "name": "stdout",
     "output_type": "stream",
     "text": [
      "36\n"
     ]
    }
   ],
   "source": [
    "# Example\n",
    "square_lambda = lambda x: x * x\n",
    "print(square_lambda(6)) "
   ]
  },
  {
   "cell_type": "code",
   "execution_count": null,
   "id": "6fe2b5c6-2362-41ca-8ce9-bfe08569aba0",
   "metadata": {},
   "outputs": [],
   "source": [
    "# 9. Explain the purpose and usage of the `map()` function in Python.\n",
    "\n",
    "# - The map() function in Python is used to apply a function to every item in an iterable (like a list, tuple, etc.) and returns a map object (an iterator)."
   ]
  },
  {
   "cell_type": "code",
   "execution_count": 31,
   "id": "fa05cd06-830d-4783-8033-43acff3044b1",
   "metadata": {},
   "outputs": [
    {
     "name": "stdout",
     "output_type": "stream",
     "text": [
      "[2, 4, 6, 8, 10, 12, 14, 16, 18, 20]\n"
     ]
    }
   ],
   "source": [
    "# Example\n",
    "def double(x):\n",
    "    return x * 2\n",
    "\n",
    "numbers = [1, 2, 3, 4, 5, 6, 7, 8, 9, 10]\n",
    "result = map(double, numbers)\n",
    "\n",
    "print(list(result))"
   ]
  },
  {
   "cell_type": "code",
   "execution_count": null,
   "id": "b4e5586a-803b-4644-875a-89db2aaadb6f",
   "metadata": {},
   "outputs": [],
   "source": [
    "# 10. What is the difference between `map()`, `reduce()`, and `filter()` functions in Python?\n",
    "\n",
    "# - map()\n",
    "  # Purpose: Applies a function to every element in an iterable.\n",
    "  # Returns: A new iterable with transformed elements."
   ]
  },
  {
   "cell_type": "code",
   "execution_count": 32,
   "id": "d9d2dfdb-4f58-43fc-b266-8a4cdd220a7f",
   "metadata": {},
   "outputs": [
    {
     "name": "stdout",
     "output_type": "stream",
     "text": [
      "[1, 4, 9, 16, 36, 49]\n"
     ]
    }
   ],
   "source": [
    "# Example of map\n",
    "nums = [1, 2, 3, 4, 6, 7]\n",
    "squares = map(lambda x: x**2, nums)\n",
    "print(list(squares)) "
   ]
  },
  {
   "cell_type": "code",
   "execution_count": null,
   "id": "8e752d2d-0282-4296-8f7a-dfae217a1b43",
   "metadata": {},
   "outputs": [],
   "source": [
    " #- filter()\n",
    "   #Purpose: Filters elements based on a condition (returns only elements where the function returns True).\n",
    "   #Returns: A new iterable with filtered elements."
   ]
  },
  {
   "cell_type": "code",
   "execution_count": 33,
   "id": "6cdadd3d-5369-48ba-83e4-69e8ff738783",
   "metadata": {},
   "outputs": [
    {
     "name": "stdout",
     "output_type": "stream",
     "text": [
      "[2, 4, 6, 8, 10]\n"
     ]
    }
   ],
   "source": [
    "# Example of filter\n",
    "nums = [1, 2, 3, 4, 5, 6, 7, 8, 9, 10]\n",
    "evens = filter(lambda x: x % 2 == 0, nums)\n",
    "print(list(evens))"
   ]
  },
  {
   "cell_type": "code",
   "execution_count": null,
   "id": "0d0ac987-7fa1-4fe4-8347-5d0d9d70f441",
   "metadata": {},
   "outputs": [],
   "source": [
    " # - reduce()\n",
    "   #Purpose: Reduces a sequence to a single value by applying a function cumulatively to the elements.\n",
    "   #Returns: A single result, not an iterable."
   ]
  },
  {
   "cell_type": "code",
   "execution_count": 34,
   "id": "34e6cb3b-7e1a-4065-b221-edf659ec46f7",
   "metadata": {},
   "outputs": [
    {
     "name": "stdout",
     "output_type": "stream",
     "text": [
      "15\n"
     ]
    }
   ],
   "source": [
    "# Example of reduce\n",
    "from functools import reduce\n",
    "\n",
    "nums = [1, 2, 3, 4, 5]\n",
    "total = reduce(lambda x, y: x + y, nums)\n",
    "print(total)"
   ]
  },
  {
   "cell_type": "code",
   "execution_count": null,
   "id": "7d3c3d93-1b65-4c18-ab4b-967f83998d5a",
   "metadata": {},
   "outputs": [],
   "source": [
    "#Practical Questions:"
   ]
  },
  {
   "cell_type": "code",
   "execution_count": null,
   "id": "680eeeaf-0b0d-4471-bfd7-cc23ca80cff1",
   "metadata": {},
   "outputs": [],
   "source": [
    "#1. Write a Python function that takes a list of numbers as input and returns the sum of all even numbers in the list"
   ]
  },
  {
   "cell_type": "code",
   "execution_count": 37,
   "id": "2ab14184-a614-49fa-935c-776925c92a72",
   "metadata": {},
   "outputs": [
    {
     "name": "stdout",
     "output_type": "stream",
     "text": [
      "30\n"
     ]
    }
   ],
   "source": [
    "def sum_even_numbers(numbers):\n",
    "    total = 0\n",
    "    for num in numbers:\n",
    "        if num % 2 == 0:\n",
    "            total += num\n",
    "    return total\n",
    "my_list = [1, 2, 3, 4, 5, 6, 7, 8, 9, 10,]\n",
    "result = sum_even_numbers(my_list)\n",
    "print(result)"
   ]
  },
  {
   "cell_type": "code",
   "execution_count": null,
   "id": "6614349a-850d-411f-8a4d-9902b7544b39",
   "metadata": {},
   "outputs": [],
   "source": [
    "# 2. Create a Python function that accepts a string and returns the reverse of that string."
   ]
  },
  {
   "cell_type": "code",
   "execution_count": 41,
   "id": "4a181b56-e3fe-43a5-a604-08b38a86673a",
   "metadata": {},
   "outputs": [
    {
     "name": "stdout",
     "output_type": "stream",
     "text": [
      "! hbahsirH \n"
     ]
    }
   ],
   "source": [
    "def reverse_string(s):\n",
    "    return s[::-1]\n",
    "    \n",
    "text = \" Hrishabh !\"\n",
    "reversed_text = reverse_string(text)\n",
    "print(reversed_text)"
   ]
  },
  {
   "cell_type": "raw",
   "id": "c0e909d2-ea6e-4fea-b9d3-77edca07612a",
   "metadata": {},
   "source": [
    "# 3. Implement a Python function that takes a list of integers and returns a new list containing the squares of each number."
   ]
  },
  {
   "cell_type": "code",
   "execution_count": 42,
   "id": "6c03f964-d6fc-4f30-ae9f-56f87a7d95d4",
   "metadata": {},
   "outputs": [
    {
     "name": "stdout",
     "output_type": "stream",
     "text": [
      "[1, 4, 9, 16, 25]\n"
     ]
    }
   ],
   "source": [
    "def square_list(numbers):\n",
    "    return [x ** 2 for x in numbers]\n",
    "\n",
    "nums = [1, 2, 3, 4, 5]\n",
    "squared = square_list(nums)\n",
    "print(squared)"
   ]
  },
  {
   "cell_type": "raw",
   "id": "a4d493e9-cdc0-4f09-a70c-dbdff999f837",
   "metadata": {},
   "source": [
    "4. Write a Python function that checks if a given number is prime or not from 1 to 200."
   ]
  },
  {
   "cell_type": "code",
   "execution_count": 43,
   "id": "9383c6a0-7276-4a22-9a64-2c4c52df166f",
   "metadata": {},
   "outputs": [
    {
     "name": "stdout",
     "output_type": "stream",
     "text": [
      "2 is a prime number.\n",
      "3 is a prime number.\n",
      "5 is a prime number.\n",
      "7 is a prime number.\n",
      "11 is a prime number.\n",
      "13 is a prime number.\n",
      "17 is a prime number.\n",
      "19 is a prime number.\n",
      "23 is a prime number.\n",
      "29 is a prime number.\n",
      "31 is a prime number.\n",
      "37 is a prime number.\n",
      "41 is a prime number.\n",
      "43 is a prime number.\n",
      "47 is a prime number.\n",
      "53 is a prime number.\n",
      "59 is a prime number.\n",
      "61 is a prime number.\n",
      "67 is a prime number.\n",
      "71 is a prime number.\n",
      "73 is a prime number.\n",
      "79 is a prime number.\n",
      "83 is a prime number.\n",
      "89 is a prime number.\n",
      "97 is a prime number.\n",
      "101 is a prime number.\n",
      "103 is a prime number.\n",
      "107 is a prime number.\n",
      "109 is a prime number.\n",
      "113 is a prime number.\n",
      "127 is a prime number.\n",
      "131 is a prime number.\n",
      "137 is a prime number.\n",
      "139 is a prime number.\n",
      "149 is a prime number.\n",
      "151 is a prime number.\n",
      "157 is a prime number.\n",
      "163 is a prime number.\n",
      "167 is a prime number.\n",
      "173 is a prime number.\n",
      "179 is a prime number.\n",
      "181 is a prime number.\n",
      "191 is a prime number.\n",
      "193 is a prime number.\n",
      "197 is a prime number.\n",
      "199 is a prime number.\n"
     ]
    }
   ],
   "source": [
    "def is_prime(n):\n",
    "    if n < 2:\n",
    "        return False  \n",
    "    for i in range(2, int(n ** 0.5) + 1):\n",
    "        if n % i == 0:\n",
    "            return False\n",
    "    return True\n",
    "\n",
    "for num in range(1, 201):\n",
    "    if is_prime(num):\n",
    "        print(f\"{num} is a prime number.\")"
   ]
  },
  {
   "cell_type": "raw",
   "id": "057b6375-e61b-4438-aa9b-4b5daa1d7c8d",
   "metadata": {},
   "source": [
    "5. Create an iterator class in Python that generates the Fibonacci sequence up to a specified number of terms."
   ]
  },
  {
   "cell_type": "code",
   "execution_count": 44,
   "id": "4a4ad2aa-ced1-41fa-809b-8dc87044f43e",
   "metadata": {},
   "outputs": [
    {
     "name": "stdout",
     "output_type": "stream",
     "text": [
      "0 1 1 2 3 5 8 13 21 34 "
     ]
    }
   ],
   "source": [
    "class FibonacciIterator:\n",
    "    def __init__(self, n_terms):\n",
    "        self.n_terms = n_terms\n",
    "        self.count = 0\n",
    "        self.a = 0\n",
    "        self.b = 1\n",
    "\n",
    "    def __iter__(self):\n",
    "        return self\n",
    "\n",
    "    def __next__(self):\n",
    "        if self.count >= self.n_terms:\n",
    "            raise StopIteration\n",
    "        if self.count == 0:\n",
    "            self.count += 1\n",
    "            return self.a\n",
    "        elif self.count == 1:\n",
    "            self.count += 1\n",
    "            return self.b\n",
    "        else:\n",
    "            self.a, self.b = self.b, self.a + self.b\n",
    "            self.count += 1\n",
    "            return self.b\n",
    "\n",
    "fib = FibonacciIterator(10)\n",
    "\n",
    "for num in fib:\n",
    "    print(num, end=\" \")"
   ]
  },
  {
   "cell_type": "raw",
   "id": "51e016b9-c6e3-4daf-849c-2925418c9106",
   "metadata": {},
   "source": [
    "6. Write a generator function in Python that yields the powers of 2 up to a given exponent."
   ]
  },
  {
   "cell_type": "code",
   "execution_count": 45,
   "id": "5bdd55bf-9d79-41dd-83f8-baa1873bf509",
   "metadata": {},
   "outputs": [
    {
     "name": "stdout",
     "output_type": "stream",
     "text": [
      "1\n",
      "2\n",
      "4\n",
      "8\n",
      "16\n",
      "32\n"
     ]
    }
   ],
   "source": [
    "def powers_of_two(n):\n",
    "    for i in range(n + 1):\n",
    "        yield 2 ** i\n",
    "\n",
    "for power in powers_of_two(5):\n",
    "    print(power)"
   ]
  },
  {
   "cell_type": "raw",
   "id": "578002bf-ab44-4284-8299-4bc6d0b21dd2",
   "metadata": {},
   "source": [
    "7. Implement a generator function that reads a file line by line and yields each line as a string."
   ]
  },
  {
   "cell_type": "raw",
   "id": "8e9af660-1721-4112-ad9b-facc3b982ee5",
   "metadata": {},
   "source": [
    "8. Use a lambda function in Python to sort a list of tuples based on the second element of each tuple."
   ]
  },
  {
   "cell_type": "code",
   "execution_count": 66,
   "id": "6b12650c-8efd-4abe-9d41-d39b011e8a1e",
   "metadata": {},
   "outputs": [
    {
     "name": "stdout",
     "output_type": "stream",
     "text": [
      "[(3, 1), (5, 2), (1, 4), (2, 9)]\n"
     ]
    }
   ],
   "source": [
    "data = [(1, 4), (3, 1), (5, 2), (2, 9)]\n",
    "sorted_data = sorted(data, key=lambda x: x[1])\n",
    "\n",
    "print(sorted_data)"
   ]
  },
  {
   "cell_type": "raw",
   "id": "3c3515a3-085f-4dc8-a48a-a2f69938b53a",
   "metadata": {},
   "source": [
    "9. Write a Python program that uses `map()` to convert a list of temperatures from Celsius to Fahrenheit."
   ]
  },
  {
   "cell_type": "code",
   "execution_count": 67,
   "id": "952ddffd-d82d-4397-8818-672f721c7461",
   "metadata": {},
   "outputs": [],
   "source": [
    "celsius=[0, 10, 20, 30, 50]"
   ]
  },
  {
   "cell_type": "code",
   "execution_count": 68,
   "id": "1c9fd2f4-b0c0-49fb-8b49-5305001c6583",
   "metadata": {},
   "outputs": [
    {
     "data": {
      "text/plain": [
       "[32.0, 50.0, 68.0, 86.0, 122.0]"
      ]
     },
     "execution_count": 68,
     "metadata": {},
     "output_type": "execute_result"
    }
   ],
   "source": [
    "list(map(lambda c:c * (9/5) + 32, celsius))"
   ]
  },
  {
   "cell_type": "raw",
   "id": "c0487dbd-e5b1-4391-8cf8-b2d7ee905c86",
   "metadata": {},
   "source": [
    "10. Create a Python program that uses `filter()` to remove all the vowels from a given string."
   ]
  },
  {
   "cell_type": "code",
   "execution_count": 69,
   "id": "fb8b28f0-9290-4207-a509-e830f61733ca",
   "metadata": {},
   "outputs": [
    {
     "name": "stdout",
     "output_type": "stream",
     "text": [
      "Hrshbh Sndly!\n"
     ]
    }
   ],
   "source": [
    "def remove_vowels(s):\n",
    "    vowels = 'aeiouAEIOU'\n",
    "    return ''.join(filter(lambda ch: ch not in vowels, s))\n",
    "\n",
    "input_str = \"Hrishabh Sandilya!\"\n",
    "result = remove_vowels(input_str)\n",
    "\n",
    "print(result)"
   ]
  },
  {
   "cell_type": "raw",
   "id": "faf0ccab-13f2-4c0c-bfad-f9125b9d1327",
   "metadata": {},
   "source": [
    "11) Imagine an accounting routine used in a book shop. It works on a list with sublists, which look like this:\n",
    "\n",
    "      Order Number            Book Title and Author                       Quantity             price per Items\n",
    "      34587                Learning python, Mark Lutz                        4                      40.95\n",
    "      98762                Programming python, Mark Lutz                     5                      56.80\n",
    "      77226                Head First python, Paul Barry                     3                      32.95\n",
    "      88112                Einfuhrung in python3, Bernd Klein                3                      24.99\n",
    "\n",
    "Write a Python program, which returns a list with 2-tuples. Each tuple consists of the order number and the\n",
    "product of the price per item and the quantity. The product should be increased by 10,- € if the value of the\n",
    "order is smaller than 100,00 €.\n",
    "\n",
    "Write a Python program using lambda and map.\n",
    "\n"
   ]
  },
  {
   "cell_type": "code",
   "execution_count": 70,
   "id": "1e97cf5d-95eb-446c-bf11-24ec6f2f738b",
   "metadata": {},
   "outputs": [
    {
     "name": "stdout",
     "output_type": "stream",
     "text": [
      "[(34587, 163.8), (98762, 284.0), (77226, 108.85), (88112, 84.97)]\n"
     ]
    }
   ],
   "source": [
    "orders = [\n",
    "    [34587, \"Learning Python, Mark Lutz\", 4, 40.95],\n",
    "    [98762, \"Programming Python, Mark Lutz\", 5, 56.80],\n",
    "    [77226, \"Head First Python, Paul Barry\", 3, 32.95],\n",
    "    [88112, \"Einfuhrung in Python3, Bernd Klein\", 3, 24.99]\n",
    "]\n",
    "\n",
    "result = list(map(lambda order: (order[0],round(order[2] * order[3] + (10 if order[2] * order[3] < 100 else 0), 2)),orders))\n",
    "\n",
    "print(result)\n"
   ]
  },
  {
   "cell_type": "code",
   "execution_count": null,
   "id": "696fcc7b-55fd-4fac-8c53-57950174d892",
   "metadata": {},
   "outputs": [],
   "source": []
  }
 ],
 "metadata": {
  "kernelspec": {
   "display_name": "Python 3 (ipykernel)",
   "language": "python",
   "name": "python3"
  },
  "language_info": {
   "codemirror_mode": {
    "name": "ipython",
    "version": 3
   },
   "file_extension": ".py",
   "mimetype": "text/x-python",
   "name": "python",
   "nbconvert_exporter": "python",
   "pygments_lexer": "ipython3",
   "version": "3.13.3"
  }
 },
 "nbformat": 4,
 "nbformat_minor": 5
}
